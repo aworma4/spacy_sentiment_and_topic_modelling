{
 "cells": [
  {
   "cell_type": "markdown",
   "id": "8582a401-8bcf-498d-8f9a-906c6c09814e",
   "metadata": {},
   "source": [
    "# Topic Modeling \n",
    "Using SPACY and scikit learn "
   ]
  },
  {
   "cell_type": "code",
   "execution_count": 24,
   "id": "2d994764-ef79-46b1-803b-0728168ad572",
   "metadata": {},
   "outputs": [],
   "source": [
    "import pandas as pd\n",
    "import spacy\n",
    "from spacy.lang.en.stop_words import STOP_WORDS\n",
    "import numpy as np\n",
    "from scipy.spatial import distance\n",
    "#load the medium model as it has word2vec the small model doesn't \n",
    "nlp = spacy.load('en_core_web_md')\n",
    "\n",
    "N = 100\n",
    "\n",
    "RS = 42"
   ]
  },
  {
   "cell_type": "code",
   "execution_count": 11,
   "id": "d7fcbd78-d4a9-4fb0-80f1-feb07b8a1a6b",
   "metadata": {},
   "outputs": [
    {
     "data": {
      "text/html": [
       "<div>\n",
       "<style scoped>\n",
       "    .dataframe tbody tr th:only-of-type {\n",
       "        vertical-align: middle;\n",
       "    }\n",
       "\n",
       "    .dataframe tbody tr th {\n",
       "        vertical-align: top;\n",
       "    }\n",
       "\n",
       "    .dataframe thead th {\n",
       "        text-align: right;\n",
       "    }\n",
       "</style>\n",
       "<table border=\"1\" class=\"dataframe\">\n",
       "  <thead>\n",
       "    <tr style=\"text-align: right;\">\n",
       "      <th></th>\n",
       "      <th>review</th>\n",
       "      <th>sentiment</th>\n",
       "    </tr>\n",
       "  </thead>\n",
       "  <tbody>\n",
       "    <tr>\n",
       "      <th>0</th>\n",
       "      <td>One of the other reviewers has mentioned that ...</td>\n",
       "      <td>positive</td>\n",
       "    </tr>\n",
       "    <tr>\n",
       "      <th>1</th>\n",
       "      <td>A wonderful little production. &lt;br /&gt;&lt;br /&gt;The...</td>\n",
       "      <td>positive</td>\n",
       "    </tr>\n",
       "    <tr>\n",
       "      <th>2</th>\n",
       "      <td>I thought this was a wonderful way to spend ti...</td>\n",
       "      <td>positive</td>\n",
       "    </tr>\n",
       "  </tbody>\n",
       "</table>\n",
       "</div>"
      ],
      "text/plain": [
       "                                              review sentiment\n",
       "0  One of the other reviewers has mentioned that ...  positive\n",
       "1  A wonderful little production. <br /><br />The...  positive\n",
       "2  I thought this was a wonderful way to spend ti...  positive"
      ]
     },
     "execution_count": 11,
     "metadata": {},
     "output_type": "execute_result"
    }
   ],
   "source": [
    "file_path = 'Data/IMDB Dataset.csv'\n",
    "\n",
    "df = pd.read_csv(file_path)\n",
    "\n",
    "df.head(3)"
   ]
  },
  {
   "cell_type": "code",
   "execution_count": 12,
   "id": "6f9ca580-c85e-47a7-aa23-974ec3797cf3",
   "metadata": {},
   "outputs": [],
   "source": [
    "# extract first 100 text entries\n",
    "text = df['review'][0:N].values"
   ]
  },
  {
   "cell_type": "code",
   "execution_count": 31,
   "id": "c6f4f426-b562-440f-9e4e-66b55c121113",
   "metadata": {},
   "outputs": [],
   "source": [
    "# pass text into the statistical model \n",
    "Docs = nlp.pipe(text)\n"
   ]
  },
  {
   "cell_type": "code",
   "execution_count": 14,
   "id": "554f5eb8-5fab-4221-aea9-f82df2f7fd89",
   "metadata": {},
   "outputs": [],
   "source": [
    "vocab = nlp.vocab"
   ]
  },
  {
   "cell_type": "code",
   "execution_count": 15,
   "id": "bb79725b-a538-4a57-86eb-e28dcecd8e26",
   "metadata": {},
   "outputs": [],
   "source": [
    "#generate vectors\n",
    "Docs_vector = [doc.vector for doc in Docs]\n"
   ]
  },
  {
   "cell_type": "code",
   "execution_count": 34,
   "id": "34ca938e-0ec0-444a-b0c9-5c4755113b7c",
   "metadata": {},
   "outputs": [
    {
     "ename": "AttributeError",
     "evalue": "'spacy.tokens.doc.Doc' object has no attribute 'orth_'",
     "output_type": "error",
     "traceback": [
      "\u001b[1;31m---------------------------------------------------------------------------\u001b[0m",
      "\u001b[1;31mAttributeError\u001b[0m                            Traceback (most recent call last)",
      "Cell \u001b[1;32mIn[34], line 1\u001b[0m\n\u001b[1;32m----> 1\u001b[0m Docs_vector2 \u001b[38;5;241m=\u001b[39m [doc\u001b[38;5;241m.\u001b[39morth_ \u001b[38;5;28;01mfor\u001b[39;00m doc \u001b[38;5;129;01min\u001b[39;00m Docs]\n",
      "Cell \u001b[1;32mIn[34], line 1\u001b[0m, in \u001b[0;36m<listcomp>\u001b[1;34m(.0)\u001b[0m\n\u001b[1;32m----> 1\u001b[0m Docs_vector2 \u001b[38;5;241m=\u001b[39m [\u001b[43mdoc\u001b[49m\u001b[38;5;241;43m.\u001b[39;49m\u001b[43morth_\u001b[49m \u001b[38;5;28;01mfor\u001b[39;00m doc \u001b[38;5;129;01min\u001b[39;00m Docs]\n",
      "\u001b[1;31mAttributeError\u001b[0m: 'spacy.tokens.doc.Doc' object has no attribute 'orth_'"
     ]
    }
   ],
   "source": []
  },
  {
   "cell_type": "code",
   "execution_count": 30,
   "id": "a73e8828-2932-4a50-866a-feaaa32d6fa6",
   "metadata": {},
   "outputs": [
    {
     "data": {
      "text/plain": [
       "<generator object Language.pipe at 0x000001EB08B37AE0>"
      ]
     },
     "execution_count": 30,
     "metadata": {},
     "output_type": "execute_result"
    }
   ],
   "source": [
    "Docs_vector2"
   ]
  },
  {
   "cell_type": "code",
   "execution_count": 16,
   "id": "60e44323-ec0c-4af1-95d2-1297ad15e1f1",
   "metadata": {},
   "outputs": [
    {
     "data": {
      "text/plain": [
       "(100, 300)"
      ]
     },
     "execution_count": 16,
     "metadata": {},
     "output_type": "execute_result"
    }
   ],
   "source": [
    "np.shape(Docs_vector)"
   ]
  },
  {
   "cell_type": "markdown",
   "id": "cf2f373d-6d41-435e-b644-b2ed45e2de51",
   "metadata": {},
   "source": [
    "# Function for vocab similarity"
   ]
  },
  {
   "cell_type": "code",
   "execution_count": 17,
   "id": "fb974446-1327-4629-86ff-a7cc665d7d53",
   "metadata": {},
   "outputs": [],
   "source": [
    "\n",
    "def vector_sim(vector,vocab):\n",
    "    '''\n",
    "    Outputs the word most similar to the input vector\n",
    "    '''\n",
    "    p = vector\n",
    "    \n",
    "    # Format the vocabulary for use in the distance function\n",
    "    ids = [x for x in vocab.vectors.keys()]\n",
    "    vectors = [vocab.vectors[x] for x in ids]\n",
    "    vectors = np.array(vectors)\n",
    "    \n",
    "    # *** Find the closest word below ***\n",
    "    closest_index = distance.cdist(p, vectors).argmin()\n",
    "    word_id = ids[closest_index]\n",
    "    output_word = vocab[word_id].text\n",
    "\n",
    "    return output_word"
   ]
  },
  {
   "cell_type": "code",
   "execution_count": 22,
   "id": "1e02920f-96f6-4929-bc11-407c882cd937",
   "metadata": {},
   "outputs": [
    {
     "data": {
      "text/plain": [
       "'presumably'"
      ]
     },
     "execution_count": 22,
     "metadata": {},
     "output_type": "execute_result"
    }
   ],
   "source": [
    "vector = Docs_vector[0]\n",
    "vector = np.reshape(vector,[1,300])\n",
    "vector_sim(vector,vocab)"
   ]
  },
  {
   "cell_type": "markdown",
   "id": "6206c92f-bb05-49f1-9580-589e36fbb880",
   "metadata": {},
   "source": [
    "# Now apply LDA"
   ]
  },
  {
   "cell_type": "code",
   "execution_count": 23,
   "id": "5489764b-2ccc-4a4a-a73a-a35b94a69908",
   "metadata": {},
   "outputs": [],
   "source": [
    "from sklearn.decomposition import LatentDirichletAllocation"
   ]
  },
  {
   "cell_type": "code",
   "execution_count": 26,
   "id": "445d8517-77af-47fb-8e84-aa346a8ee5a2",
   "metadata": {},
   "outputs": [],
   "source": [
    "lda = LatentDirichletAllocation(n_components=4,random_state=RS)"
   ]
  },
  {
   "cell_type": "code",
   "execution_count": 44,
   "id": "16f07de3-31e5-436d-a3e0-88ff2c307af6",
   "metadata": {},
   "outputs": [],
   "source": [
    "# can't use Docs_vector straigh as it contains negative components -essentially I need to use a different embedding\n",
    "max_Docs_vector = np.max(Docs_vector)\n",
    "shape = np.shape(Docs_vector)\n",
    "Docs_vector_pos = Docs_vector + np.ones(shape)*max_Docs_vector"
   ]
  },
  {
   "cell_type": "code",
   "execution_count": 43,
   "id": "11be0cbe-1513-44c7-b481-214a88dc830d",
   "metadata": {},
   "outputs": [],
   "source": [
    "lda_matrix = lda.fit_transform(Docs_vector_pos) "
   ]
  },
  {
   "cell_type": "code",
   "execution_count": 50,
   "id": "6cbff5e7-5946-45fb-a89a-98cff6037dd6",
   "metadata": {},
   "outputs": [],
   "source": [
    "topics_vectors = lda.components_\n",
    "topics_vectors_shape = np.shape(topics_vectors)\n",
    "topics_vectors = topics_vectors - np.ones(topics_vectors_shape)*max_Docs_vector"
   ]
  },
  {
   "cell_type": "code",
   "execution_count": 54,
   "id": "c2430316-f8ea-42dd-b8d5-3733f102942a",
   "metadata": {},
   "outputs": [
    {
     "data": {
      "text/plain": [
       "300"
      ]
     },
     "execution_count": 54,
     "metadata": {},
     "output_type": "execute_result"
    }
   ],
   "source": [
    "#find vector dims\n",
    "VDim = np.shape(topics_vectors[0])[0]\n"
   ]
  },
  {
   "cell_type": "code",
   "execution_count": 57,
   "id": "231b84e4-5058-4161-92f0-3676c6f0e2f4",
   "metadata": {},
   "outputs": [
    {
     "data": {
      "text/plain": [
       "['of', 'of', 'of', 'an']"
      ]
     },
     "execution_count": 57,
     "metadata": {},
     "output_type": "execute_result"
    }
   ],
   "source": [
    "topic = []\n",
    "for I in range(len(topics_vectors)):\n",
    "    v = topics_vectors[I]\n",
    "    v = np.reshape(v,[1,VDim])\n",
    "    topic.append(vector_sim(v,vocab))\n",
    "\n",
    "topic"
   ]
  },
  {
   "cell_type": "markdown",
   "id": "efaac191-1cab-4f70-afc4-acfa443ccb66",
   "metadata": {},
   "source": [
    "# Re do using NLTK + scikit-learn"
   ]
  },
  {
   "cell_type": "code",
   "execution_count": 59,
   "id": "53acc684-31d4-42bd-8d93-77da8bf4d4fe",
   "metadata": {},
   "outputs": [],
   "source": [
    "import os\n",
    "import pandas as pd\n",
    "from nltk.tokenize import RegexpTokenizer\n",
    "from sklearn.feature_extraction.text import TfidfVectorizer\n",
    "from sklearn.decomposition import LatentDirichletAllocation"
   ]
  },
  {
   "cell_type": "code",
   "execution_count": 61,
   "id": "e2f8d1b1-c9e0-45ab-af41-269cf1d437f7",
   "metadata": {},
   "outputs": [
    {
     "name": "stderr",
     "output_type": "stream",
     "text": [
      "C:\\Users\\AT030915\\Spacy_Sent_Topic\\venv\\venv_spacy\\lib\\site-packages\\sklearn\\feature_extraction\\text.py:528: UserWarning: The parameter 'token_pattern' will not be used since 'tokenizer' is not None'\n",
      "  warnings.warn(\n"
     ]
    }
   ],
   "source": [
    "# Initialize regex tokenizer\n",
    "tokenizer = RegexpTokenizer(r'\\w+')\n",
    "\n",
    "# Vectorize document using TF-IDF\n",
    "tfidf = TfidfVectorizer(lowercase=True,\n",
    "                        stop_words='english',\n",
    "                        ngram_range = (1,1),\n",
    "                        tokenizer = tokenizer.tokenize)\n",
    "\n",
    "# Fit and Transform the documents\n",
    "train_data = tfidf.fit_transform(text)   "
   ]
  },
  {
   "cell_type": "code",
   "execution_count": 64,
   "id": "dc98f956-6904-44a3-af34-73186fd61c79",
   "metadata": {},
   "outputs": [],
   "source": [
    "# Define the number of topics or components\n",
    "num_components=5\n",
    "\n",
    "# Create LDA object\n",
    "model=LatentDirichletAllocation(n_components=num_components)\n",
    "\n",
    "# Fit and Transform SVD model on data\n",
    "lda_matrix = model.fit_transform(train_data)\n",
    "\n",
    "# Get Components \n",
    "lda_components=model.components_"
   ]
  },
  {
   "cell_type": "code",
   "execution_count": 78,
   "id": "140e971b-39cd-442d-9fd5-9b5505ab93be",
   "metadata": {},
   "outputs": [
    {
     "name": "stdout",
     "output_type": "stream",
     "text": [
      "Topic 0:\n",
      "('br', 2.7925339140475405)\n",
      "('s', 1.6395355774599403)\n",
      "('movie', 1.5981602832151338)\n",
      "('like', 1.1901579014875656)\n",
      "('t', 1.0560177948354081)\n",
      "('war', 1.0398044651678267)\n",
      "('film', 0.8875702634769103)\n",
      "Topic 1:\n",
      "('br', 1.5704411012680493)\n",
      "('film', 1.1010562764207426)\n",
      "('movie', 1.100690734614989)\n",
      "('s', 0.9238731565134715)\n",
      "('story', 0.7519701305496012)\n",
      "('lot', 0.7361693950857513)\n",
      "('goldie', 0.7026728215531821)\n",
      "Topic 2:\n",
      "('br', 3.3391667334271573)\n",
      "('movie', 1.813446399631298)\n",
      "('s', 1.5199195181955698)\n",
      "('film', 1.4350005619134318)\n",
      "('t', 1.2154273253728212)\n",
      "('bad', 1.0669913622951264)\n",
      "('just', 1.0623681502038043)\n",
      "Topic 3:\n",
      "('br', 3.4236165316395253)\n",
      "('s', 1.6445600576228787)\n",
      "('movie', 1.5064319345853383)\n",
      "('film', 1.3885580840416798)\n",
      "('funny', 0.9957584189514619)\n",
      "('movies', 0.8921163220874821)\n",
      "('b', 0.8723364944151497)\n",
      "Topic 4:\n",
      "('br', 1.877835505737501)\n",
      "('movie', 1.178730068353227)\n",
      "('s', 1.0856513278401425)\n",
      "('jimmy', 0.9137528365362999)\n",
      "('just', 0.8674513260737451)\n",
      "('t', 0.8629769920970198)\n",
      "('adventure', 0.7617527343959996)\n"
     ]
    }
   ],
   "source": [
    "# Print the topics with their terms\n",
    "terms = tfidf.get_feature_names_out()\n",
    "\n",
    "for index, component in enumerate(lda_components):\n",
    "    zipped = zip(terms, component)\n",
    "    top_terms_key=sorted(zipped, key = lambda t: t[1], reverse=True)[:7]\n",
    "    top_terms_list=list(dict(top_terms_key).keys())\n",
    "    top_terms_comp = list(dict(top_terms_key).values())\n",
    "\n",
    "    print(\"Topic %d:\" % (index))\n",
    "    [print((top_terms_list[i], top_terms_comp[i])) for i in range(len(top_terms_list))]\n",
    "     \n"
   ]
  },
  {
   "cell_type": "code",
   "execution_count": null,
   "id": "f2ef2a7f-d5c5-45e1-ba1e-36eac447db6f",
   "metadata": {},
   "outputs": [],
   "source": []
  }
 ],
 "metadata": {
  "kernelspec": {
   "display_name": "Python 3 (ipykernel)",
   "language": "python",
   "name": "python3"
  },
  "language_info": {
   "codemirror_mode": {
    "name": "ipython",
    "version": 3
   },
   "file_extension": ".py",
   "mimetype": "text/x-python",
   "name": "python",
   "nbconvert_exporter": "python",
   "pygments_lexer": "ipython3",
   "version": "3.10.11"
  }
 },
 "nbformat": 4,
 "nbformat_minor": 5
}
